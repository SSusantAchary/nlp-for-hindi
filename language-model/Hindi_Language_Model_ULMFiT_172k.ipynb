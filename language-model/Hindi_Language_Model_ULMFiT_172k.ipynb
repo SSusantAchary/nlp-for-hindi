{
 "cells": [
  {
   "cell_type": "code",
   "execution_count": 1,
   "metadata": {},
   "outputs": [],
   "source": [
    "%reload_ext autoreload\n",
    "%autoreload 2\n",
    "%matplotlib inline"
   ]
  },
  {
   "cell_type": "code",
   "execution_count": 2,
   "metadata": {},
   "outputs": [],
   "source": [
    "from fastai.text import *\n",
    "import numpy as np\n",
    "from sklearn.model_selection import train_test_split\n",
    "import pickle\n",
    "import sentencepiece as spm"
   ]
  },
  {
   "cell_type": "code",
   "execution_count": 3,
   "metadata": {},
   "outputs": [
    {
     "data": {
      "text/plain": [
       "('1.0.57', '1.1.0')"
      ]
     },
     "execution_count": 3,
     "metadata": {},
     "output_type": "execute_result"
    }
   ],
   "source": [
    "import fastai, torch\n",
    "fastai.__version__ , torch.__version__"
   ]
  },
  {
   "cell_type": "code",
   "execution_count": 4,
   "metadata": {},
   "outputs": [
    {
     "name": "stdout",
     "output_type": "stream",
     "text": [
      "Wed Oct 16 11:13:32 2019       \r\n",
      "+-----------------------------------------------------------------------------+\r\n",
      "| NVIDIA-SMI 390.116                Driver Version: 390.116                   |\r\n",
      "|-------------------------------+----------------------+----------------------+\r\n",
      "| GPU  Name        Persistence-M| Bus-Id        Disp.A | Volatile Uncorr. ECC |\r\n",
      "| Fan  Temp  Perf  Pwr:Usage/Cap|         Memory-Usage | GPU-Util  Compute M. |\r\n",
      "|===============================+======================+======================|\r\n",
      "|   0  GeForce GTX 108...  Off  | 00000000:01:00.0  On |                  N/A |\r\n",
      "|  0%   54C    P0    71W / 250W |    228MiB / 11177MiB |      0%      Default |\r\n",
      "+-------------------------------+----------------------+----------------------+\r\n",
      "                                                                               \r\n",
      "+-----------------------------------------------------------------------------+\r\n",
      "| Processes:                                                       GPU Memory |\r\n",
      "|  GPU       PID   Type   Process name                             Usage      |\r\n",
      "|=============================================================================|\r\n",
      "|    0      1039      G   /usr/lib/xorg/Xorg                           130MiB |\r\n",
      "|    0      2165      G   compiz                                        85MiB |\r\n",
      "+-----------------------------------------------------------------------------+\r\n"
     ]
    }
   ],
   "source": [
    "!nvidia-smi"
   ]
  },
  {
   "cell_type": "code",
   "execution_count": 5,
   "metadata": {},
   "outputs": [],
   "source": [
    "torch.cuda.set_device(0)"
   ]
  },
  {
   "cell_type": "code",
   "execution_count": 6,
   "metadata": {},
   "outputs": [
    {
     "name": "stdout",
     "output_type": "stream",
     "text": [
      "/home/gaurav/PycharmProjects/nlp-for-hindi/language-model\r\n"
     ]
    }
   ],
   "source": [
    "!pwd"
   ]
  },
  {
   "cell_type": "code",
   "execution_count": 7,
   "metadata": {},
   "outputs": [],
   "source": [
    "path = Path('/home/gaurav/PycharmProjects/nlp-for-hindi/language-model')"
   ]
  },
  {
   "cell_type": "code",
   "execution_count": 15,
   "metadata": {},
   "outputs": [],
   "source": [
    "# from inltk.tokenizer import HindiTokenizer"
   ]
  },
  {
   "cell_type": "code",
   "execution_count": 16,
   "metadata": {},
   "outputs": [],
   "source": [
    "# HindiTokenizer"
   ]
  },
  {
   "cell_type": "code",
   "execution_count": 10,
   "metadata": {},
   "outputs": [
    {
     "data": {
      "text/plain": [
       "PosixPath('/home/gaurav/PycharmProjects/nlp-for-hindi/language-model')"
      ]
     },
     "execution_count": 10,
     "metadata": {},
     "output_type": "execute_result"
    }
   ],
   "source": [
    "path"
   ]
  },
  {
   "cell_type": "code",
   "execution_count": 11,
   "metadata": {},
   "outputs": [],
   "source": [
    "class HindiTokenizer(BaseTokenizer):\n",
    "    def __init__(self, lang:str):\n",
    "        self.lang = lang\n",
    "        self.sp = spm.SentencePieceProcessor()\n",
    "        self.sp.Load(str(path/\"../tokenizer/hindi_lm_large.model\"))\n",
    "        \n",
    "    def tokenizer(self, t:str) -> List[str]:\n",
    "        return self.sp.EncodeAsPieces(t)"
   ]
  },
  {
   "cell_type": "code",
   "execution_count": 12,
   "metadata": {},
   "outputs": [],
   "source": [
    "sp = spm.SentencePieceProcessor()\n",
    "sp.Load(str(path/\"../tokenizer/hindi_lm_large.model\"))\n",
    "itos = [sp.IdToPiece(int(i)) for i in range(30000)]"
   ]
  },
  {
   "cell_type": "code",
   "execution_count": 13,
   "metadata": {},
   "outputs": [
    {
     "data": {
      "text/plain": [
       "30000"
      ]
     },
     "execution_count": 13,
     "metadata": {},
     "output_type": "execute_result"
    }
   ],
   "source": [
    "len(itos)"
   ]
  },
  {
   "cell_type": "code",
   "execution_count": 14,
   "metadata": {},
   "outputs": [
    {
     "data": {
      "text/plain": [
       "['<unk>',\n",
       " '<s>',\n",
       " '</s>',\n",
       " '▁के',\n",
       " '।',\n",
       " '▁में',\n",
       " '▁है',\n",
       " ',',\n",
       " '▁की',\n",
       " '▁',\n",
       " '▁और',\n",
       " '▁से',\n",
       " '▁का',\n",
       " '▁को',\n",
       " '▁हैं',\n",
       " '▁एक',\n",
       " '▁पर',\n",
       " '.',\n",
       " '-',\n",
       " '▁ने']"
      ]
     },
     "execution_count": 14,
     "metadata": {},
     "output_type": "execute_result"
    }
   ],
   "source": [
    "itos[:20]"
   ]
  },
  {
   "cell_type": "code",
   "execution_count": 15,
   "metadata": {},
   "outputs": [],
   "source": [
    "# 30,000 is the vocab size that we chose in sentencepiece\n",
    "hindi_vocab = Vocab(itos)"
   ]
  },
  {
   "cell_type": "code",
   "execution_count": 16,
   "metadata": {},
   "outputs": [],
   "source": [
    "tokenizer = Tokenizer(tok_func=HindiTokenizer, lang='hi')"
   ]
  },
  {
   "cell_type": "code",
   "execution_count": 17,
   "metadata": {},
   "outputs": [
    {
     "data": {
      "text/plain": [
       "['xxunk',\n",
       " 'xxpad',\n",
       " 'xxbos',\n",
       " 'xxeos',\n",
       " 'xxfld',\n",
       " 'xxmaj',\n",
       " 'xxup',\n",
       " 'xxrep',\n",
       " 'xxwrep']"
      ]
     },
     "execution_count": 17,
     "metadata": {},
     "output_type": "execute_result"
    }
   ],
   "source": [
    "tokenizer.special_cases"
   ]
  },
  {
   "cell_type": "code",
   "execution_count": 18,
   "metadata": {},
   "outputs": [
    {
     "data": {
      "text/plain": [
       "PosixPath('/home/gaurav/PycharmProjects/nlp-for-hindi/language-model')"
      ]
     },
     "execution_count": 18,
     "metadata": {},
     "output_type": "execute_result"
    }
   ],
   "source": [
    "path"
   ]
  },
  {
   "cell_type": "code",
   "execution_count": 19,
   "metadata": {},
   "outputs": [],
   "source": [
    "data_lm = TextLMDataBunch.from_folder(path=path/'hindi_transformer', tokenizer=tokenizer, vocab=hindi_vocab)"
   ]
  },
  {
   "cell_type": "code",
   "execution_count": 20,
   "metadata": {},
   "outputs": [
    {
     "data": {
      "text/plain": [
       "64"
      ]
     },
     "execution_count": 20,
     "metadata": {},
     "output_type": "execute_result"
    }
   ],
   "source": [
    "data_lm.batch_size"
   ]
  },
  {
   "cell_type": "code",
   "execution_count": 21,
   "metadata": {},
   "outputs": [],
   "source": [
    "data_lm.save()"
   ]
  },
  {
   "cell_type": "code",
   "execution_count": 22,
   "metadata": {},
   "outputs": [
    {
     "data": {
      "text/html": [
       "<table border=\"1\" class=\"dataframe\">\n",
       "  <thead>\n",
       "    <tr style=\"text-align: right;\">\n",
       "      <th>idx</th>\n",
       "      <th>text</th>\n",
       "    </tr>\n",
       "  </thead>\n",
       "  <tbody>\n",
       "    <tr>\n",
       "      <td>0</td>\n",
       "      <td>▁जे स्टन ▁जेम्स ▁बॉण्ड ▁1953 ▁में ▁अंग्रेज़ ▁लेखक ▁इयान ▁फ़्लेम िंग ▁द्वारा ▁रचित ▁एक ▁काल्पनिक ▁पात्र ▁है । ▁007 ▁के ▁गुप्त ▁नाम ▁से ▁प्रसिद्ध ▁यह ▁एजेंट ▁फ़्लेम िंग ▁की ▁बारह ▁पुस्तकों ▁व ▁दो ▁लघुकथा ओं ▁में ▁मौजूद ▁है । ▁1964 ▁में ▁फ़्लेम िंग ▁की ▁मृत्यु ▁के ▁पश्चात ▁छः ▁अन्य ▁लेखकों ▁ने ▁बॉण्ड ▁की ▁आधि कृत ▁पुस्तकें ▁लिखी ▁हैं , ▁जिनमें ▁किंग्स ले ▁ऐ मिस , ▁क्रिस्टोफ़र ▁वुड्स , ▁जॉन ▁गार्ड</td>\n",
       "    </tr>\n",
       "    <tr>\n",
       "      <td>1</td>\n",
       "      <td>▁जो ▁क ल्हण ▁द्वारा ▁12 वीं ▁शताब्दी ▁ई . ▁में ▁लिखा ▁गया ▁था । ▁तब ▁तक ▁यहां ▁पूर्ण ▁हिन्दू ▁राज्य ▁रहा ▁था । यह ▁अशोक ▁महान ▁के ▁साम्राज्य ▁का ▁हिस्सा ▁भी ▁रहा । ▁लगभग ▁तीसरी ▁शताब्दी ▁में ▁अशोक ▁का ▁शासन ▁रहा ▁था । ▁तभी ▁यहां ▁बौद्ध ▁धर्म ▁का ▁आगमन ▁हुआ , ▁जो ▁आगे ▁चलकर ▁कुषाण ों ▁के ▁अधीन ▁सम ृ ध्द ▁हुआ ▁था । उ ज्ज ैन ▁के ▁महाराज ▁विक्रमादित्य</td>\n",
       "    </tr>\n",
       "    <tr>\n",
       "      <td>2</td>\n",
       "      <td>▁पाकिस्तान ▁शामिल ▁हैं ▁जबकि ▁भारी ▁मात्रा ▁में ▁कैन ोला ▁ऑयल ▁और ▁मील ▁संयुक्त ▁राज्य ▁अमेरिका ▁जाता ▁है ▁और ▁इसकी ▁छोटी ▁मात्रा एं ▁मैक्सिको , ▁चीन ▁और ▁यूरोप ▁में ▁भेज ▁दी ▁जाती ▁हैं । ▁वर्ष ▁2002 - 2003 ▁के ▁मौसम ▁में ▁दुनिया ▁भर ▁में ▁लगभग ▁14 ▁मिलियन ▁मैट्रिक ▁टन ▁रे प सीड ▁ऑयल ▁का ▁उत्पादन ▁हुआ ▁था । ▁कैन ोला ▁को ▁पारंपरिक ▁पौध ▁प्रजनन ▁के ▁जरिये ▁रे प सीड ▁से ▁विकसित</td>\n",
       "    </tr>\n",
       "    <tr>\n",
       "      <td>3</td>\n",
       "      <td>▁फिल्मों ▁में ▁दिखी ं । ▁पहले ▁अभिषेक ▁कपूर ▁की ▁फि तूर ▁में ▁जो ▁चार्ल्स ▁डिकेंस ▁के ▁उपन्यास ▁ग्रेट ▁एक्स्प ेक्ट ै शन ▁पर ▁आधारित ▁थी । ▁फिल्म ▁में ▁आदित्य ▁रॉय ▁कपूर ▁और ▁तब ु ▁भी ▁थे । ▁बाद ▁में ▁बार ▁बार ▁देखो ▁में ▁वह ▁सिद्धार्थ ▁मल्होत्रा ▁के ▁साथ ▁नज़र ▁आई । ▁दोनों ▁ही ▁फिल्म ▁सफल ▁नहीं ▁रही । ▁हिन्दुस्तान ▁के ▁विशाल ▁ठाकुर ▁ने ▁लिखा : ▁\" बार ▁बार ▁देखो ▁में</td>\n",
       "    </tr>\n",
       "    <tr>\n",
       "      <td>4</td>\n",
       "      <td>▁नहीं ▁आते ▁हैं , ▁जबकि ▁मु वत् ता ▁के ▁सभी ▁हदीस ▁अन्य ▁सही ह ▁किताबों ▁में ▁शामिल ▁हैं । ▁सुन्नी ▁मुस्लिम ▁छह ▁प्रमुख ▁हदीस ▁संग्रह ों ▁को ▁उनके ▁सबसे ▁महत्वपूर्ण ▁मानते ▁हैं , ▁हालांकि ▁प्रामाणिकता ▁का ▁क्रम ▁मज़ ह ब ों ▁के ▁बीच ▁भिन्न ▁होता ▁है ▁इब्न ▁हज र ▁के ▁अनुसार , ▁पहले ▁दो , ▁जिसे ▁आमतौर ▁पर ▁दो ▁सह हि ह ▁के ▁रूप ▁में ▁जाना ▁जाता ▁है , ▁उनकी</td>\n",
       "    </tr>\n",
       "  </tbody>\n",
       "</table>"
      ],
      "text/plain": [
       "<IPython.core.display.HTML object>"
      ]
     },
     "metadata": {},
     "output_type": "display_data"
    }
   ],
   "source": [
    "data_lm.show_batch()"
   ]
  },
  {
   "cell_type": "code",
   "execution_count": 23,
   "metadata": {},
   "outputs": [],
   "source": [
    "??language_model_learner"
   ]
  },
  {
   "cell_type": "code",
   "execution_count": 24,
   "metadata": {},
   "outputs": [
    {
     "data": {
      "text/plain": [
       "30000"
      ]
     },
     "execution_count": 24,
     "metadata": {},
     "output_type": "execute_result"
    }
   ],
   "source": [
    "len(data_lm.vocab.itos)"
   ]
  },
  {
   "cell_type": "code",
   "execution_count": 25,
   "metadata": {},
   "outputs": [],
   "source": [
    "learn = language_model_learner(data_lm, AWD_LSTM, pretrained=False)"
   ]
  },
  {
   "cell_type": "code",
   "execution_count": 26,
   "metadata": {},
   "outputs": [
    {
     "data": {
      "text/plain": [
       "1604"
      ]
     },
     "execution_count": 26,
     "metadata": {},
     "output_type": "execute_result"
    }
   ],
   "source": [
    "gc.collect()"
   ]
  },
  {
   "cell_type": "code",
   "execution_count": 27,
   "metadata": {},
   "outputs": [
    {
     "data": {
      "text/plain": [
       "SequentialRNN(\n",
       "  (0): AWD_LSTM(\n",
       "    (encoder): Embedding(30000, 400, padding_idx=1)\n",
       "    (encoder_dp): EmbeddingDropout(\n",
       "      (emb): Embedding(30000, 400, padding_idx=1)\n",
       "    )\n",
       "    (rnns): ModuleList(\n",
       "      (0): WeightDropout(\n",
       "        (module): LSTM(400, 1152, batch_first=True)\n",
       "      )\n",
       "      (1): WeightDropout(\n",
       "        (module): LSTM(1152, 1152, batch_first=True)\n",
       "      )\n",
       "      (2): WeightDropout(\n",
       "        (module): LSTM(1152, 400, batch_first=True)\n",
       "      )\n",
       "    )\n",
       "    (input_dp): RNNDropout()\n",
       "    (hidden_dps): ModuleList(\n",
       "      (0): RNNDropout()\n",
       "      (1): RNNDropout()\n",
       "      (2): RNNDropout()\n",
       "    )\n",
       "  )\n",
       "  (1): LinearDecoder(\n",
       "    (decoder): Linear(in_features=400, out_features=30000, bias=True)\n",
       "    (output_dp): RNNDropout()\n",
       "  )\n",
       ")"
      ]
     },
     "execution_count": 27,
     "metadata": {},
     "output_type": "execute_result"
    }
   ],
   "source": [
    "learn.model"
   ]
  },
  {
   "cell_type": "code",
   "execution_count": 28,
   "metadata": {},
   "outputs": [
    {
     "data": {
      "text/html": [],
      "text/plain": [
       "<IPython.core.display.HTML object>"
      ]
     },
     "metadata": {},
     "output_type": "display_data"
    },
    {
     "name": "stdout",
     "output_type": "stream",
     "text": [
      "LR Finder is complete, type {learner_name}.recorder.plot() to see the graph.\n"
     ]
    }
   ],
   "source": [
    "learn.lr_find()"
   ]
  },
  {
   "cell_type": "code",
   "execution_count": 29,
   "metadata": {},
   "outputs": [
    {
     "data": {
      "image/png": "[encoded data removed]",
      "text/plain": [
       "<Figure size 432x288 with 1 Axes>"
      ]
     },
     "metadata": {
      "needs_background": "light"
     },
     "output_type": "display_data"
    }
   ],
   "source": [
    "learn.recorder.plot()"
   ]
  },
  {
   "cell_type": "code",
   "execution_count": 30,
   "metadata": {},
   "outputs": [
    {
     "data": {
      "text/html": [
       "<table border=\"1\" class=\"dataframe\">\n",
       "  <thead>\n",
       "    <tr style=\"text-align: left;\">\n",
       "      <th>epoch</th>\n",
       "      <th>train_loss</th>\n",
       "      <th>valid_loss</th>\n",
       "      <th>accuracy</th>\n",
       "      <th>time</th>\n",
       "    </tr>\n",
       "  </thead>\n",
       "  <tbody>\n",
       "    <tr>\n",
       "      <td>0</td>\n",
       "      <td>5.751442</td>\n",
       "      <td>5.643702</td>\n",
       "      <td>0.205336</td>\n",
       "      <td>33:50</td>\n",
       "    </tr>\n",
       "    <tr>\n",
       "      <td>1</td>\n",
       "      <td>4.817427</td>\n",
       "      <td>4.793048</td>\n",
       "      <td>0.266742</td>\n",
       "      <td>33:58</td>\n",
       "    </tr>\n",
       "    <tr>\n",
       "      <td>2</td>\n",
       "      <td>4.612603</td>\n",
       "      <td>4.395641</td>\n",
       "      <td>0.295616</td>\n",
       "      <td>34:04</td>\n",
       "    </tr>\n",
       "    <tr>\n",
       "      <td>3</td>\n",
       "      <td>4.422366</td>\n",
       "      <td>4.196748</td>\n",
       "      <td>0.311338</td>\n",
       "      <td>34:08</td>\n",
       "    </tr>\n",
       "    <tr>\n",
       "      <td>4</td>\n",
       "      <td>4.239987</td>\n",
       "      <td>4.065018</td>\n",
       "      <td>0.322284</td>\n",
       "      <td>34:08</td>\n",
       "    </tr>\n",
       "    <tr>\n",
       "      <td>5</td>\n",
       "      <td>4.206244</td>\n",
       "      <td>3.981103</td>\n",
       "      <td>0.330692</td>\n",
       "      <td>34:12</td>\n",
       "    </tr>\n",
       "    <tr>\n",
       "      <td>6</td>\n",
       "      <td>4.113741</td>\n",
       "      <td>3.911579</td>\n",
       "      <td>0.337195</td>\n",
       "      <td>34:12</td>\n",
       "    </tr>\n",
       "    <tr>\n",
       "      <td>7</td>\n",
       "      <td>4.014261</td>\n",
       "      <td>3.851094</td>\n",
       "      <td>0.343927</td>\n",
       "      <td>34:11</td>\n",
       "    </tr>\n",
       "    <tr>\n",
       "      <td>8</td>\n",
       "      <td>4.032167</td>\n",
       "      <td>3.800962</td>\n",
       "      <td>0.349590</td>\n",
       "      <td>34:12</td>\n",
       "    </tr>\n",
       "    <tr>\n",
       "      <td>9</td>\n",
       "      <td>3.955506</td>\n",
       "      <td>3.765572</td>\n",
       "      <td>0.354403</td>\n",
       "      <td>34:12</td>\n",
       "    </tr>\n",
       "    <tr>\n",
       "      <td>10</td>\n",
       "      <td>3.858625</td>\n",
       "      <td>3.715029</td>\n",
       "      <td>0.360131</td>\n",
       "      <td>34:14</td>\n",
       "    </tr>\n",
       "    <tr>\n",
       "      <td>11</td>\n",
       "      <td>3.846198</td>\n",
       "      <td>3.674184</td>\n",
       "      <td>0.365293</td>\n",
       "      <td>34:11</td>\n",
       "    </tr>\n",
       "    <tr>\n",
       "      <td>12</td>\n",
       "      <td>3.882539</td>\n",
       "      <td>3.647813</td>\n",
       "      <td>0.369002</td>\n",
       "      <td>34:16</td>\n",
       "    </tr>\n",
       "    <tr>\n",
       "      <td>13</td>\n",
       "      <td>3.811650</td>\n",
       "      <td>3.613070</td>\n",
       "      <td>0.373721</td>\n",
       "      <td>34:15</td>\n",
       "    </tr>\n",
       "    <tr>\n",
       "      <td>14</td>\n",
       "      <td>3.869739</td>\n",
       "      <td>3.590897</td>\n",
       "      <td>0.376963</td>\n",
       "      <td>34:17</td>\n",
       "    </tr>\n",
       "    <tr>\n",
       "      <td>15</td>\n",
       "      <td>3.786655</td>\n",
       "      <td>3.563166</td>\n",
       "      <td>0.380753</td>\n",
       "      <td>34:21</td>\n",
       "    </tr>\n",
       "    <tr>\n",
       "      <td>16</td>\n",
       "      <td>3.758033</td>\n",
       "      <td>3.545945</td>\n",
       "      <td>0.383257</td>\n",
       "      <td>34:24</td>\n",
       "    </tr>\n",
       "    <tr>\n",
       "      <td>17</td>\n",
       "      <td>3.793671</td>\n",
       "      <td>3.535628</td>\n",
       "      <td>0.384710</td>\n",
       "      <td>34:24</td>\n",
       "    </tr>\n",
       "    <tr>\n",
       "      <td>18</td>\n",
       "      <td>3.753753</td>\n",
       "      <td>3.529626</td>\n",
       "      <td>0.385569</td>\n",
       "      <td>34:26</td>\n",
       "    </tr>\n",
       "    <tr>\n",
       "      <td>19</td>\n",
       "      <td>3.788864</td>\n",
       "      <td>3.528268</td>\n",
       "      <td>0.385755</td>\n",
       "      <td>34:35</td>\n",
       "    </tr>\n",
       "  </tbody>\n",
       "</table>"
      ],
      "text/plain": [
       "<IPython.core.display.HTML object>"
      ]
     },
     "metadata": {},
     "output_type": "display_data"
    },
    {
     "name": "stdout",
     "output_type": "stream",
     "text": [
      "Better model found at epoch 0 with accuracy value: 0.205336332321167.\n",
      "Better model found at epoch 1 with accuracy value: 0.2667420506477356.\n",
      "Better model found at epoch 2 with accuracy value: 0.2956162393093109.\n",
      "Better model found at epoch 3 with accuracy value: 0.3113378584384918.\n",
      "Better model found at epoch 4 with accuracy value: 0.3222842514514923.\n",
      "Better model found at epoch 5 with accuracy value: 0.33069172501564026.\n",
      "Better model found at epoch 6 with accuracy value: 0.3371947109699249.\n",
      "Better model found at epoch 7 with accuracy value: 0.3439274728298187.\n",
      "Better model found at epoch 8 with accuracy value: 0.3495900630950928.\n",
      "Better model found at epoch 9 with accuracy value: 0.3544030785560608.\n",
      "Better model found at epoch 10 with accuracy value: 0.36013102531433105.\n",
      "Better model found at epoch 11 with accuracy value: 0.3652926981449127.\n",
      "Better model found at epoch 12 with accuracy value: 0.3690016567707062.\n",
      "Better model found at epoch 13 with accuracy value: 0.3737213909626007.\n",
      "Better model found at epoch 14 with accuracy value: 0.3769630491733551.\n",
      "Better model found at epoch 15 with accuracy value: 0.38075295090675354.\n",
      "Better model found at epoch 16 with accuracy value: 0.3832567632198334.\n",
      "Better model found at epoch 17 with accuracy value: 0.38471028208732605.\n",
      "Better model found at epoch 18 with accuracy value: 0.3855690658092499.\n",
      "Better model found at epoch 19 with accuracy value: 0.3857552409172058.\n"
     ]
    }
   ],
   "source": [
    "learn.fit_one_cycle(20, 1e-3, moms=(0.8,0.7), callbacks=[callbacks.SaveModelCallback(learn, every='improvement', monitor='accuracy', name='model')])"
   ]
  },
  {
   "cell_type": "code",
   "execution_count": 31,
   "metadata": {},
   "outputs": [],
   "source": [
    "TEXT = \"जिसके लिये उन्हें \"\n",
    "N_WORDS = 40\n",
    "N_SENTENCES = 2"
   ]
  },
  {
   "cell_type": "code",
   "execution_count": 32,
   "metadata": {},
   "outputs": [
    {
     "name": "stdout",
     "output_type": "stream",
     "text": [
      "जिसके लिये उन्हें  ▁all ▁भ्रम ▁तो ▁एम्पायर ्स ▁को ▁बनाने ▁में ▁बचा ना ▁होगा ▁लेकिन ▁इसके ▁लिए ▁उन्हें ▁बादशाह ▁के ▁खिलाफ ▁ऐसी ▁शिकायत ▁सुन नी ▁चाहिये । ▁ऐसी ▁प्रवृति ▁नहीं ▁है ▁कि ▁प्रसिद्द ▁व्यक्तियों ▁की ▁तरह ▁काम ▁करने ▁के ▁लिए ▁बाहर ▁की ▁ओर\n",
      "जिसके लिये उन्हें  ▁सर्वश्रेष्ठ ▁सहायक ▁अभिनेत्री ▁के ▁लिये ▁नोबेल ▁पुरस्कार ▁प्राप्त ▁हुआ ▁है , ▁उन्होंने ▁उन्हें ▁सर्वश्रेष्ठ ▁गीतकार ▁के ▁लिए ▁' का उ नन्दन ▁फिल्म ▁पुरस्कार ' ▁दिया ▁था । ▁उन्होंने ▁एक ▁लाख ▁से ▁अधिक ▁साधनों ▁से ▁बैठकर ▁ही ▁बतौर ▁अभिनेता ▁की ▁कहानी\n"
     ]
    }
   ],
   "source": [
    "print(\"\\n\".join(learn.predict(TEXT, N_WORDS, temperature=0.9) for _ in range(N_SENTENCES)))"
   ]
  },
  {
   "cell_type": "code",
   "execution_count": 33,
   "metadata": {},
   "outputs": [
    {
     "data": {
      "text/plain": [
       "34.064916056257296"
      ]
     },
     "execution_count": 33,
     "metadata": {},
     "output_type": "execute_result"
    }
   ],
   "source": [
    "np.exp(3.528268)"
   ]
  },
  {
   "cell_type": "code",
   "execution_count": 34,
   "metadata": {},
   "outputs": [],
   "source": [
    "defaults.device = torch.device('cpu')\n",
    "learn.model.eval()\n",
    "learn.export()"
   ]
  },
  {
   "cell_type": "code",
   "execution_count": 35,
   "metadata": {},
   "outputs": [
    {
     "data": {
      "text/plain": [
       "PosixPath('/home/gaurav/PycharmProjects/nlp-for-hindi/language-model')"
      ]
     },
     "execution_count": 35,
     "metadata": {},
     "output_type": "execute_result"
    }
   ],
   "source": [
    "path"
   ]
  },
  {
   "cell_type": "code",
   "execution_count": 36,
   "metadata": {},
   "outputs": [],
   "source": [
    "# learn = load_learner(path / 'HindiDataset')"
   ]
  },
  {
   "cell_type": "code",
   "execution_count": 37,
   "metadata": {},
   "outputs": [],
   "source": [
    "encoder = get_model(learn.model)[0]"
   ]
  },
  {
   "cell_type": "code",
   "execution_count": 38,
   "metadata": {},
   "outputs": [
    {
     "data": {
      "text/plain": [
       "torch.Size([30000, 400])"
      ]
     },
     "execution_count": 38,
     "metadata": {},
     "output_type": "execute_result"
    }
   ],
   "source": [
    "encoder.state_dict()['encoder.weight'].shape"
   ]
  },
  {
   "cell_type": "code",
   "execution_count": 39,
   "metadata": {},
   "outputs": [],
   "source": [
    "embeddings = encoder.state_dict()['encoder.weight']"
   ]
  },
  {
   "cell_type": "code",
   "execution_count": 40,
   "metadata": {},
   "outputs": [],
   "source": [
    "embeddings = np.array(embeddings)"
   ]
  },
  {
   "cell_type": "code",
   "execution_count": 41,
   "metadata": {},
   "outputs": [
    {
     "data": {
      "text/plain": [
       "(400,)"
      ]
     },
     "execution_count": 41,
     "metadata": {},
     "output_type": "execute_result"
    }
   ],
   "source": [
    "embeddings[0].shape"
   ]
  },
  {
   "cell_type": "code",
   "execution_count": 42,
   "metadata": {},
   "outputs": [],
   "source": [
    "df = pd.DataFrame(embeddings)"
   ]
  },
  {
   "cell_type": "code",
   "execution_count": 43,
   "metadata": {},
   "outputs": [
    {
     "data": {
      "text/plain": [
       "(30000, 400)"
      ]
     },
     "execution_count": 43,
     "metadata": {},
     "output_type": "execute_result"
    }
   ],
   "source": [
    "df.shape"
   ]
  },
  {
   "cell_type": "code",
   "execution_count": 44,
   "metadata": {},
   "outputs": [],
   "source": [
    "df.to_csv('ulmfit_large_embeddings.tsv', sep='\\t', index=False, header=False)"
   ]
  },
  {
   "cell_type": "code",
   "execution_count": 45,
   "metadata": {},
   "outputs": [
    {
     "data": {
      "text/html": [
       "<div>\n",
       "<style scoped>\n",
       "    .dataframe tbody tr th:only-of-type {\n",
       "        vertical-align: middle;\n",
       "    }\n",
       "\n",
       "    .dataframe tbody tr th {\n",
       "        vertical-align: top;\n",
       "    }\n",
       "\n",
       "    .dataframe thead th {\n",
       "        text-align: right;\n",
       "    }\n",
       "</style>\n",
       "<table border=\"1\" class=\"dataframe\">\n",
       "  <thead>\n",
       "    <tr style=\"text-align: right;\">\n",
       "      <th></th>\n",
       "      <th>0</th>\n",
       "      <th>1</th>\n",
       "      <th>2</th>\n",
       "      <th>3</th>\n",
       "      <th>4</th>\n",
       "      <th>5</th>\n",
       "      <th>6</th>\n",
       "      <th>7</th>\n",
       "      <th>8</th>\n",
       "      <th>9</th>\n",
       "      <th>...</th>\n",
       "      <th>390</th>\n",
       "      <th>391</th>\n",
       "      <th>392</th>\n",
       "      <th>393</th>\n",
       "      <th>394</th>\n",
       "      <th>395</th>\n",
       "      <th>396</th>\n",
       "      <th>397</th>\n",
       "      <th>398</th>\n",
       "      <th>399</th>\n",
       "    </tr>\n",
       "  </thead>\n",
       "  <tbody>\n",
       "    <tr>\n",
       "      <td>0</td>\n",
       "      <td>0.070260</td>\n",
       "      <td>0.161722</td>\n",
       "      <td>-0.283896</td>\n",
       "      <td>0.292114</td>\n",
       "      <td>-0.033296</td>\n",
       "      <td>-0.138606</td>\n",
       "      <td>0.008623</td>\n",
       "      <td>0.384469</td>\n",
       "      <td>-0.056585</td>\n",
       "      <td>-0.417674</td>\n",
       "      <td>...</td>\n",
       "      <td>-0.013075</td>\n",
       "      <td>0.186685</td>\n",
       "      <td>0.006372</td>\n",
       "      <td>-0.027651</td>\n",
       "      <td>-0.525675</td>\n",
       "      <td>-0.067528</td>\n",
       "      <td>-0.188427</td>\n",
       "      <td>1.055574</td>\n",
       "      <td>-0.360146</td>\n",
       "      <td>-0.150507</td>\n",
       "    </tr>\n",
       "    <tr>\n",
       "      <td>1</td>\n",
       "      <td>0.003990</td>\n",
       "      <td>0.034629</td>\n",
       "      <td>-0.406700</td>\n",
       "      <td>0.121944</td>\n",
       "      <td>-0.019929</td>\n",
       "      <td>0.018309</td>\n",
       "      <td>0.058361</td>\n",
       "      <td>0.000014</td>\n",
       "      <td>0.021154</td>\n",
       "      <td>0.013913</td>\n",
       "      <td>...</td>\n",
       "      <td>0.035047</td>\n",
       "      <td>0.027207</td>\n",
       "      <td>0.079666</td>\n",
       "      <td>0.067225</td>\n",
       "      <td>0.101667</td>\n",
       "      <td>-0.001406</td>\n",
       "      <td>-0.060258</td>\n",
       "      <td>0.000648</td>\n",
       "      <td>-0.029308</td>\n",
       "      <td>-0.001614</td>\n",
       "    </tr>\n",
       "    <tr>\n",
       "      <td>2</td>\n",
       "      <td>0.003257</td>\n",
       "      <td>0.053062</td>\n",
       "      <td>-0.406985</td>\n",
       "      <td>0.125515</td>\n",
       "      <td>-0.012183</td>\n",
       "      <td>0.019895</td>\n",
       "      <td>0.060197</td>\n",
       "      <td>0.005950</td>\n",
       "      <td>0.025459</td>\n",
       "      <td>0.019870</td>\n",
       "      <td>...</td>\n",
       "      <td>0.030035</td>\n",
       "      <td>0.020803</td>\n",
       "      <td>0.080144</td>\n",
       "      <td>0.057581</td>\n",
       "      <td>0.094612</td>\n",
       "      <td>0.010723</td>\n",
       "      <td>-0.059093</td>\n",
       "      <td>-0.004867</td>\n",
       "      <td>-0.027049</td>\n",
       "      <td>-0.000550</td>\n",
       "    </tr>\n",
       "    <tr>\n",
       "      <td>3</td>\n",
       "      <td>0.158901</td>\n",
       "      <td>0.116016</td>\n",
       "      <td>-0.231982</td>\n",
       "      <td>-0.141738</td>\n",
       "      <td>-0.582064</td>\n",
       "      <td>-0.121010</td>\n",
       "      <td>0.038129</td>\n",
       "      <td>0.036728</td>\n",
       "      <td>0.706286</td>\n",
       "      <td>0.113444</td>\n",
       "      <td>...</td>\n",
       "      <td>0.026163</td>\n",
       "      <td>0.061985</td>\n",
       "      <td>0.072041</td>\n",
       "      <td>0.055279</td>\n",
       "      <td>0.368510</td>\n",
       "      <td>-0.168286</td>\n",
       "      <td>-0.013608</td>\n",
       "      <td>0.010262</td>\n",
       "      <td>0.433321</td>\n",
       "      <td>-0.062238</td>\n",
       "    </tr>\n",
       "    <tr>\n",
       "      <td>4</td>\n",
       "      <td>0.515394</td>\n",
       "      <td>0.150388</td>\n",
       "      <td>-0.560811</td>\n",
       "      <td>-0.217824</td>\n",
       "      <td>-0.088485</td>\n",
       "      <td>0.243484</td>\n",
       "      <td>0.038639</td>\n",
       "      <td>0.285578</td>\n",
       "      <td>0.639499</td>\n",
       "      <td>-0.078303</td>\n",
       "      <td>...</td>\n",
       "      <td>-0.141696</td>\n",
       "      <td>0.485272</td>\n",
       "      <td>-0.227886</td>\n",
       "      <td>0.123881</td>\n",
       "      <td>0.782569</td>\n",
       "      <td>0.233689</td>\n",
       "      <td>-0.178229</td>\n",
       "      <td>-0.279273</td>\n",
       "      <td>-0.487784</td>\n",
       "      <td>0.055523</td>\n",
       "    </tr>\n",
       "  </tbody>\n",
       "</table>\n",
       "<p>5 rows × 400 columns</p>\n",
       "</div>"
      ],
      "text/plain": [
       "        0         1         2         3         4         5         6    \\\n",
       "0  0.070260  0.161722 -0.283896  0.292114 -0.033296 -0.138606  0.008623   \n",
       "1  0.003990  0.034629 -0.406700  0.121944 -0.019929  0.018309  0.058361   \n",
       "2  0.003257  0.053062 -0.406985  0.125515 -0.012183  0.019895  0.060197   \n",
       "3  0.158901  0.116016 -0.231982 -0.141738 -0.582064 -0.121010  0.038129   \n",
       "4  0.515394  0.150388 -0.560811 -0.217824 -0.088485  0.243484  0.038639   \n",
       "\n",
       "        7         8         9    ...       390       391       392       393  \\\n",
       "0  0.384469 -0.056585 -0.417674  ... -0.013075  0.186685  0.006372 -0.027651   \n",
       "1  0.000014  0.021154  0.013913  ...  0.035047  0.027207  0.079666  0.067225   \n",
       "2  0.005950  0.025459  0.019870  ...  0.030035  0.020803  0.080144  0.057581   \n",
       "3  0.036728  0.706286  0.113444  ...  0.026163  0.061985  0.072041  0.055279   \n",
       "4  0.285578  0.639499 -0.078303  ... -0.141696  0.485272 -0.227886  0.123881   \n",
       "\n",
       "        394       395       396       397       398       399  \n",
       "0 -0.525675 -0.067528 -0.188427  1.055574 -0.360146 -0.150507  \n",
       "1  0.101667 -0.001406 -0.060258  0.000648 -0.029308 -0.001614  \n",
       "2  0.094612  0.010723 -0.059093 -0.004867 -0.027049 -0.000550  \n",
       "3  0.368510 -0.168286 -0.013608  0.010262  0.433321 -0.062238  \n",
       "4  0.782569  0.233689 -0.178229 -0.279273 -0.487784  0.055523  \n",
       "\n",
       "[5 rows x 400 columns]"
      ]
     },
     "execution_count": 45,
     "metadata": {},
     "output_type": "execute_result"
    }
   ],
   "source": [
    "df.head()"
   ]
  },
  {
   "cell_type": "code",
   "execution_count": 46,
   "metadata": {},
   "outputs": [
    {
     "data": {
      "text/plain": [
       "(30000, 400)"
      ]
     },
     "execution_count": 46,
     "metadata": {},
     "output_type": "execute_result"
    }
   ],
   "source": [
    "df.shape"
   ]
  },
  {
   "cell_type": "code",
   "execution_count": 47,
   "metadata": {},
   "outputs": [
    {
     "data": {
      "text/plain": [
       "30000"
      ]
     },
     "execution_count": 47,
     "metadata": {},
     "output_type": "execute_result"
    }
   ],
   "source": [
    "len(itos)"
   ]
  },
  {
   "cell_type": "code",
   "execution_count": 48,
   "metadata": {},
   "outputs": [],
   "source": [
    "df2 = pd.DataFrame(itos)"
   ]
  },
  {
   "cell_type": "code",
   "execution_count": 49,
   "metadata": {},
   "outputs": [
    {
     "data": {
      "text/html": [
       "<div>\n",
       "<style scoped>\n",
       "    .dataframe tbody tr th:only-of-type {\n",
       "        vertical-align: middle;\n",
       "    }\n",
       "\n",
       "    .dataframe tbody tr th {\n",
       "        vertical-align: top;\n",
       "    }\n",
       "\n",
       "    .dataframe thead th {\n",
       "        text-align: right;\n",
       "    }\n",
       "</style>\n",
       "<table border=\"1\" class=\"dataframe\">\n",
       "  <thead>\n",
       "    <tr style=\"text-align: right;\">\n",
       "      <th></th>\n",
       "      <th>0</th>\n",
       "    </tr>\n",
       "  </thead>\n",
       "  <tbody>\n",
       "    <tr>\n",
       "      <td>0</td>\n",
       "      <td>&lt;unk&gt;</td>\n",
       "    </tr>\n",
       "    <tr>\n",
       "      <td>1</td>\n",
       "      <td>&lt;s&gt;</td>\n",
       "    </tr>\n",
       "    <tr>\n",
       "      <td>2</td>\n",
       "      <td>&lt;/s&gt;</td>\n",
       "    </tr>\n",
       "    <tr>\n",
       "      <td>3</td>\n",
       "      <td>▁के</td>\n",
       "    </tr>\n",
       "    <tr>\n",
       "      <td>4</td>\n",
       "      <td>।</td>\n",
       "    </tr>\n",
       "  </tbody>\n",
       "</table>\n",
       "</div>"
      ],
      "text/plain": [
       "       0\n",
       "0  <unk>\n",
       "1    <s>\n",
       "2   </s>\n",
       "3    ▁के\n",
       "4      ।"
      ]
     },
     "execution_count": 49,
     "metadata": {},
     "output_type": "execute_result"
    }
   ],
   "source": [
    "df2.head()"
   ]
  },
  {
   "cell_type": "code",
   "execution_count": 50,
   "metadata": {},
   "outputs": [
    {
     "data": {
      "text/plain": [
       "(30000, 1)"
      ]
     },
     "execution_count": 50,
     "metadata": {},
     "output_type": "execute_result"
    }
   ],
   "source": [
    "df2.shape"
   ]
  },
  {
   "cell_type": "code",
   "execution_count": 51,
   "metadata": {},
   "outputs": [],
   "source": [
    "df2.to_csv('ulmfit_large_embeddings_metadata.tsv', sep='\\t', index=False, header=False)"
   ]
  },
  {
   "cell_type": "code",
   "execution_count": 52,
   "metadata": {
    "scrolled": true
   },
   "outputs": [
    {
     "data": {
      "text/plain": [
       "tensor([ 3.9896e-03,  3.4629e-02, -4.0670e-01,  1.2194e-01, -1.9929e-02,\n",
       "         1.8309e-02,  5.8361e-02,  1.4350e-05,  2.1154e-02,  1.3913e-02,\n",
       "        -4.1637e-02,  3.5261e-02,  2.2660e-02,  4.5717e-03, -2.7113e-02,\n",
       "        -6.5313e-02, -1.1359e-03, -9.3003e-02, -1.2248e-02, -1.6794e-02,\n",
       "         2.7482e-02, -1.4375e-02,  4.3184e-02, -4.9501e-02,  7.8045e-03,\n",
       "         1.9203e-01, -9.0404e-02,  7.9326e-03,  9.6202e-03,  2.8788e-02,\n",
       "         1.9584e-02,  7.5046e-02, -1.9784e-03, -4.2908e-02,  4.9432e-03,\n",
       "        -6.1185e-02, -3.6334e-02,  3.4995e-02, -3.8668e-02,  4.6059e-02,\n",
       "        -6.2501e-02,  2.9141e-02, -1.1699e-01, -3.2993e-02, -1.2340e-01,\n",
       "        -5.9029e-03,  6.7185e-02, -3.7538e-02,  5.7789e-02, -4.2478e-02,\n",
       "         1.0205e-02,  8.6885e-02, -5.2492e-04,  4.3381e-02, -2.5761e-02,\n",
       "         2.6653e-02, -6.8218e-02, -1.6502e-02,  8.1296e-03, -1.9546e-02,\n",
       "        -1.0692e-01,  8.3087e-02,  6.1522e-02,  1.0296e-02,  2.5809e-02,\n",
       "         3.5692e-02,  3.6327e-02,  6.2493e-02,  1.5491e-01, -1.2330e-01,\n",
       "         2.0124e-01, -7.0733e-03,  1.2579e-02, -3.7823e-02,  2.2434e-02,\n",
       "         8.1680e-03,  3.2014e-02, -4.1190e-02, -2.6190e-02,  8.7246e-02,\n",
       "        -1.3912e-01,  1.1507e-02, -8.1481e-02, -4.6933e-02, -1.1786e-02,\n",
       "         1.3372e-02,  3.2588e-02,  1.8975e-02,  1.0863e-01,  5.1077e-02,\n",
       "        -5.5736e-02,  2.0251e-03, -1.3002e-02, -5.9756e-02,  1.1953e-01,\n",
       "         1.9101e-02, -4.0604e-02, -8.4240e-02,  4.7713e-02,  5.1612e-03,\n",
       "         1.8735e-02,  1.4651e-02,  9.1230e-01, -5.4793e-02, -7.5600e-02,\n",
       "         1.7903e-04,  1.1469e-01, -8.4688e-04,  4.0019e-02,  2.3708e-02,\n",
       "         2.3580e-02,  3.5350e-02, -4.7755e-02,  3.1506e-02,  2.0875e-02,\n",
       "        -1.1744e-03,  7.1475e-02,  3.2980e-02, -5.4827e-02, -7.8449e-03,\n",
       "         2.3295e-02,  4.4122e-02, -4.0129e-02, -2.0578e-02,  8.7522e-03,\n",
       "         6.1318e-02,  2.2507e-02, -3.3308e-02, -5.4078e-02,  5.5343e-02,\n",
       "         6.0475e-02, -3.1914e-03, -8.2345e-02,  2.7717e-02, -4.5604e-02,\n",
       "         1.5436e-02, -3.7526e-02, -1.0993e-01,  5.0225e-02,  5.8796e-03,\n",
       "         1.4176e-02,  4.7994e-02,  2.0361e-02,  5.7341e-02, -2.4026e+00,\n",
       "        -1.7308e-02,  1.4084e-02, -5.1157e-02,  1.4195e-02,  5.2165e-02,\n",
       "        -6.9561e-02,  2.6990e-02,  5.3683e-02,  1.0020e-01,  3.1138e-01,\n",
       "        -1.9321e-02,  1.9731e-02, -2.3378e-03,  3.0166e-02,  2.1067e-02,\n",
       "        -9.8012e-02, -6.6084e-02, -1.9933e-01, -4.9470e-02, -1.5310e-01,\n",
       "        -4.7517e-02, -1.2875e-02, -6.9725e-02,  2.4322e-02, -1.2482e-02,\n",
       "         2.1977e-02,  2.2307e-02,  3.1355e-02,  3.2564e-02, -2.8850e-02,\n",
       "        -3.9165e-02, -2.7044e-02, -2.4999e-02, -6.2843e-03,  2.3731e-02,\n",
       "         6.6348e-02,  1.5963e-02,  7.5836e-02, -3.6905e-03, -4.0696e-02,\n",
       "         5.9066e-02,  6.8145e-02,  2.8232e-02,  1.5297e-02, -3.7014e-01,\n",
       "         1.4036e-02, -2.8978e-02, -9.6864e-02, -5.1100e-02, -6.0850e-02,\n",
       "         1.2948e-02,  2.4521e-03, -1.0369e-03,  2.6216e-02, -3.6271e-02,\n",
       "        -2.1348e-02,  3.9399e-03,  2.1349e-02, -1.2251e-02, -9.4905e-02,\n",
       "         2.4837e-02,  8.5921e-02,  2.6679e-02,  1.1634e-03, -2.5319e-02,\n",
       "        -4.0517e-02, -1.7464e-02,  3.0301e-02, -1.1816e-02,  7.5057e-03,\n",
       "         7.0751e-02,  1.8184e-02, -3.2228e-02,  3.9905e-02,  1.3867e-01,\n",
       "        -3.8270e-02,  2.8736e-02, -1.0112e-01, -4.4916e-02, -1.7799e-03,\n",
       "        -1.0043e-03, -3.4287e-03,  1.9268e-02,  1.1981e-02,  1.7961e-03,\n",
       "         2.2495e-02, -3.1702e-02, -9.3024e-02,  4.9632e-02,  2.8290e-02,\n",
       "         2.4110e-02,  5.9510e-02,  2.0343e-02, -6.9928e-02, -7.3729e-02,\n",
       "         2.5439e-03, -2.9478e-03, -3.0492e-02, -2.9956e-02,  2.8754e-02,\n",
       "         3.4454e-02, -4.8685e-02, -1.6420e-02,  4.0489e-02,  4.9390e-02,\n",
       "        -3.2069e-02,  4.1604e-02, -4.1826e-02, -4.7578e-02, -2.8571e-02,\n",
       "        -5.4877e-02, -8.2792e-02, -3.0598e-03, -2.5949e-02, -2.1504e-03,\n",
       "         6.8280e-02, -1.8758e-02, -4.8444e-02,  2.5983e-02,  3.2601e-02,\n",
       "        -2.6121e-02, -3.9263e-02,  1.0144e-01,  5.0456e-03, -3.7807e-02,\n",
       "        -1.0898e-01, -1.5955e-01,  2.3768e-02, -1.3324e-01,  3.4804e-03,\n",
       "        -3.8621e-02, -1.1434e-03,  6.4886e-02,  1.0108e-03,  3.7277e-02,\n",
       "         5.8445e-03,  2.6917e-02, -1.5601e-02, -2.3291e-02,  1.5676e-02,\n",
       "        -4.9895e-02,  1.9434e-02,  5.6187e-02, -1.4012e-02, -2.7559e-02,\n",
       "        -1.2770e-02,  1.0889e-01,  3.3884e-03,  3.4702e-02, -4.5949e-02,\n",
       "         1.5612e-02, -9.3276e-03,  4.5600e-02,  4.9732e-02,  5.3435e-02,\n",
       "        -4.6817e-02, -2.7387e-02, -6.1836e-02,  1.2093e-02, -6.9735e-02,\n",
       "         2.5105e-03,  7.0971e-04,  4.4027e-02, -4.6801e-02, -1.6921e-02,\n",
       "         8.1619e-02,  7.2840e-03,  4.2603e-02,  9.1741e-02, -6.8875e-02,\n",
       "        -9.8295e-03,  3.6178e-03,  4.1215e-03, -2.2342e-02, -1.5675e-02,\n",
       "         2.0410e-02,  2.3000e-02, -4.9163e-02, -2.6788e-02, -4.2531e-02,\n",
       "         1.4527e-03, -2.7327e-02, -1.0790e-02,  2.5463e-03, -5.3925e-02,\n",
       "         3.5149e-02, -5.7621e-02, -5.6419e-02, -8.6580e-02,  4.8375e-02,\n",
       "        -1.9785e-01,  3.4426e-02, -3.2230e-02,  1.0530e-02, -3.8754e-02,\n",
       "        -4.5052e-02,  1.5462e-02,  4.0886e-02, -2.7170e-02, -4.0465e-02,\n",
       "         2.8688e-02,  3.4733e-02, -1.9942e-02,  2.3305e-02, -1.8977e-02,\n",
       "         3.3000e-03, -1.1250e-02,  1.1707e-01, -3.0184e-02, -2.2679e+00,\n",
       "         4.4809e-02, -4.3585e-02,  1.7188e-02,  6.3041e-02, -8.1576e-03,\n",
       "        -1.7810e-02,  1.7356e-02,  4.4350e-01,  6.4716e-02, -2.2541e-02,\n",
       "        -3.4297e-02, -9.7319e-03,  3.7758e-03, -5.0741e-02,  7.8162e-02,\n",
       "         8.7522e-02,  1.5987e-02, -3.0472e-02, -4.5758e-02,  6.4824e-02,\n",
       "        -2.0536e-01, -1.3571e-02, -6.5024e-02, -8.4640e-03, -6.8738e-02,\n",
       "        -1.5000e-02, -4.5119e-02, -1.6405e-02, -6.8137e-03,  1.3170e-02,\n",
       "         1.1337e-02, -2.7642e-03,  7.2331e-03,  1.3731e-02,  1.6689e-02,\n",
       "         3.5047e-02,  2.7207e-02,  7.9666e-02,  6.7225e-02,  1.0167e-01,\n",
       "        -1.4059e-03, -6.0258e-02,  6.4771e-04, -2.9308e-02, -1.6137e-03],\n",
       "       device='cuda:0')"
      ]
     },
     "execution_count": 52,
     "metadata": {},
     "output_type": "execute_result"
    }
   ],
   "source": [
    "encoder.state_dict()['encoder.weight'][1]"
   ]
  },
  {
   "cell_type": "code",
   "execution_count": null,
   "metadata": {},
   "outputs": [],
   "source": []
  }
 ],
 "metadata": {
  "kernelspec": {
   "display_name": "Python 3",
   "language": "python",
   "name": "python3"
  },
  "language_info": {
   "codemirror_mode": {
    "name": "ipython",
    "version": 3
   },
   "file_extension": ".py",
   "mimetype": "text/x-python",
   "name": "python",
   "nbconvert_exporter": "python",
   "pygments_lexer": "ipython3",
   "version": "3.7.3"
  }
 },
 "nbformat": 4,
 "nbformat_minor": 2
}
